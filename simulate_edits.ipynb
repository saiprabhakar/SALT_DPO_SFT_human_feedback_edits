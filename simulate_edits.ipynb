{
 "cells": [
  {
   "cell_type": "code",
   "execution_count": 1,
   "id": "f172922b-e66f-469b-bd44-cd8694782835",
   "metadata": {},
   "outputs": [
    {
     "name": "stderr",
     "output_type": "stream",
     "text": [
      "/home/sai.prabhakar/LearnFromHumanEdit/.venv/lib/python3.10/site-packages/tqdm/auto.py:21: TqdmWarning: IProgress not found. Please update jupyter and ipywidgets. See https://ipywidgets.readthedocs.io/en/stable/user_install.html\n",
      "  from .autonotebook import tqdm as notebook_tqdm\n"
     ]
    }
   ],
   "source": [
    "from datasets import Dataset, load_from_disk"
   ]
  },
  {
   "cell_type": "code",
   "execution_count": 11,
   "id": "f3e19045",
   "metadata": {},
   "outputs": [],
   "source": [
    "dataset = load_from_disk(\"data/avs/\" + \"sub_eval\")"
   ]
  },
  {
   "cell_type": "code",
   "execution_count": 24,
   "id": "1828d067",
   "metadata": {},
   "outputs": [
    {
     "name": "stderr",
     "output_type": "stream",
     "text": [
      "Map: 100%|██████████| 128/128 [00:00<00:00, 1720.25 examples/s]\n"
     ]
    }
   ],
   "source": [
    "from typing import Dict, Optional\n",
    "import random\n",
    "import copy\n",
    "from trainer import extract_prompt\n",
    "\n",
    "def delete_random_words(sentence, max_words_to_delete=10) -> Dict[str, str]:\n",
    "    # skip_deleting = random.randint(1, 10) > 7\n",
    "    # if skip_deleting:\n",
    "    #     return sentence\n",
    "\n",
    "    words = sentence.split()    \n",
    "    num_words_to_delete = random.randint(3, min(round(len(words)/3), max_words_to_delete))\n",
    "    words_idx_to_delete = [random.randint(1, len(words) - 1) for _ in range(num_words_to_delete)]\n",
    "    words = [word for idx, word in enumerate(words) if idx not in words_idx_to_delete]\n",
    "    new_sentence = \" \".join(words)\n",
    "    return new_sentence\n",
    "\n",
    "def insert_errors(sample) -> Dict[str, str]:\n",
    "    prompt = extract_prompt(sample[\"chosen\"])\n",
    "    prompt = prompt\n",
    "    chosen = sample[\"chosen\"][len(prompt) :]\n",
    "    rejected = sample[\"rejected\"][len(prompt) :]\n",
    "\n",
    "    rejected = delete_random_words(rejected)\n",
    "    chosen = delete_random_words(chosen)\n",
    "    new_sample = copy.deepcopy(sample)\n",
    "\n",
    "    new_sample[\"rejected\"] = prompt + \" \" + rejected\n",
    "    new_sample[\"chosen\"] = prompt + \" \" + chosen\n",
    "\n",
    "    return new_sample\n",
    "\n",
    "errored_dataset = dataset.map(insert_errors)"
   ]
  },
  {
   "cell_type": "code",
   "execution_count": 25,
   "id": "3b8d4c99",
   "metadata": {},
   "outputs": [
    {
     "name": "stderr",
     "output_type": "stream",
     "text": [
      "Saving the dataset (1/1 shards): 100%|██████████| 128/128 [00:00<00:00, 24366.67 examples/s]\n"
     ]
    }
   ],
   "source": [
    "errored_dataset.save_to_disk(\"data/avs/\" + \"sub_eval_w_simulated_edits\")"
   ]
  },
  {
   "cell_type": "code",
   "execution_count": 26,
   "id": "f36b0938",
   "metadata": {},
   "outputs": [
    {
     "name": "stdout",
     "output_type": "stream",
     "text": [
      "False\n",
      "False\n",
      "False\n",
      "False\n",
      "False\n",
      "False\n",
      "False\n",
      "False\n",
      "False\n",
      "False\n"
     ]
    }
   ],
   "source": [
    "for i in range(10):\n",
    "    print(errored_dataset[i][\"rejected\"] == errored_dataset[i][\"chosen\"])\n",
    "    # print(dataset[i][\"rejected\"])\n",
    "    # print(dataset[i][\"chosen\"])\n",
    "    # print()"
   ]
  },
  {
   "cell_type": "code",
   "execution_count": null,
   "id": "b5043b72",
   "metadata": {},
   "outputs": [],
   "source": []
  },
  {
   "cell_type": "code",
   "execution_count": null,
   "id": "652c774c",
   "metadata": {},
   "outputs": [],
   "source": []
  },
  {
   "cell_type": "code",
   "execution_count": 31,
   "id": "3bdd450c",
   "metadata": {},
   "outputs": [
    {
     "name": "stdout",
     "output_type": "stream",
     "text": [
      "Alignment of SEQUENCE 1 and SEQUENCE 2:\n",
      "\t123456789\n",
      "\t123456-100109\n",
      "\n",
      "['C', 'C', 'C', 'C', 'C', 'C', 'D', 'S', 'C']\n"
     ]
    }
   ],
   "source": [
    "from sequence_alignment import needle\n",
    "\n",
    "\n",
    "def get_position_status1(al_generated, \n",
    "                        al_edited):\n",
    "    assert len(al_generated)==len(al_edited)\n",
    "    \n",
    "    position_status = []\n",
    "    for i in range(len(al_generated)):\n",
    "        if al_generated[i] == al_edited[i]:\n",
    "            position_status.append('C')\n",
    "            # S_generated_position_weight.append(S_generated_C_weight)\n",
    "            # S_edited_position_weight.append(S_edited_C_weight)\n",
    "        elif al_generated[i] == -100:\n",
    "            position_status.append('I')\n",
    "            # S_edited_position_weight.append(S_edited_I_weight)\n",
    "        elif al_edited[i] == -100:\n",
    "            position_status.append('D')\n",
    "            # S_generated_position_weight.append(S_generated_D_weight)\n",
    "        else:\n",
    "            # print(\"S\", al_generated[i], al_edited[i])\n",
    "            position_status.append('S')\n",
    "            # S_generated_position_weight.append(S_generated_S_weight)\n",
    "            # S_edited_position_weight.append(S_edited_S_weight)\n",
    "            \n",
    "    return position_status\n",
    "\n",
    "S_generated = [1, 2, 3, 4, 5, 6, 7, 8, 9]\n",
    "S_edited = [1, 2, 3, 4, 5, 6, 10, 9]\n",
    "\n",
    "alignment = needle.NeedlemanWunsch(S_generated, S_edited)\n",
    "alignment.gap_character = -100\n",
    "alignment.align()\n",
    "alignment.get_score()\n",
    "al_generated, al_edited = alignment.get_aligned_sequences(\"list_of_int\")\n",
    "\n",
    "p_status = get_position_status1(al_generated, al_edited)\n",
    "print(alignment)\n",
    "print(p_status)"
   ]
  },
  {
   "cell_type": "code",
   "execution_count": null,
   "id": "ad7320a2",
   "metadata": {},
   "outputs": [],
   "source": []
  },
  {
   "cell_type": "code",
   "execution_count": null,
   "id": "da366b41",
   "metadata": {},
   "outputs": [],
   "source": []
  },
  {
   "cell_type": "code",
   "execution_count": 1,
   "id": "5f01b121",
   "metadata": {},
   "outputs": [
    {
     "name": "stderr",
     "output_type": "stream",
     "text": [
      "/home/sai.prabhakar/LearnFromHumanEdit/.venv/lib/python3.10/site-packages/tqdm/auto.py:21: TqdmWarning: IProgress not found. Please update jupyter and ipywidgets. See https://ipywidgets.readthedocs.io/en/stable/user_install.html\n",
      "  from .autonotebook import tqdm as notebook_tqdm\n",
      "[nltk_data] Downloading package wordnet to\n",
      "[nltk_data]     /home/sai.prabhakar/nltk_data...\n",
      "[nltk_data]   Package wordnet is already up-to-date!\n"
     ]
    }
   ],
   "source": [
    "from dpo import *"
   ]
  },
  {
   "cell_type": "markdown",
   "id": "30cf504e",
   "metadata": {},
   "source": [
    "SFTTrainer()"
   ]
  },
  {
   "cell_type": "code",
   "execution_count": null,
   "id": "910719d3",
   "metadata": {},
   "outputs": [],
   "source": [
    "SFTTrainer()"
   ]
  },
  {
   "cell_type": "code",
   "execution_count": 2,
   "id": "c7c50971",
   "metadata": {},
   "outputs": [
    {
     "data": {
      "text/plain": [
       "\"\\n    Initialize DPOTrainer.\\n\\n    Args:\\n        model (`transformers.PreTrainedModel`):\\n            The model to train, preferably an `AutoModelForSequenceClassification`.\\n        output_dir (`str`, defaults to `'./'`):\\n        args (`transformers.TrainingArguments`):\\n            The arguments to use for training.\\n        data_collator (`transformers.DataCollator`):\\n            The data collator to use for training. If None is specified, the default data collator (`DPODataCollatorWithPadding`) will be used\\n            which will pad the sequences to the maximum length of the sequences in the batch, given a dataset of paired sequences.\\n        label_pad_token_id (`int`, defaults to `-100`):\\n            The label pad token id. This argument is required if you want to use the default data collator.\\n        padding_value (`int`, defaults to `0`):\\n            The padding value. This argument is required if you want to use the default data collator.\\n        truncation_mode (`str`, defaults to `keep_end`):\\n            The truncation mode to use, either `keep_end` or `keep_start`. This argument is required if you want to use the default data collator.\\n        train_dataset (`datasets.Dataset`):\\n            The dataset to use for training.\\n        eval_dataset (`datasets.Dataset`):\\n            The dataset to use for evaluation.\\n        tokenizer (`transformers.PreTrainedTokenizerBase`):\\n            The tokenizer to use for training. This argument is required if you want to use the default data collator.\\n        model_init (`Callable[[], transformers.PreTrainedModel]`):\\n            The model initializer to use for training. If None is specified, the default model initializer will be used.\\n        callbacks (`List[transformers.TrainerCallback]`):\\n            The callbacks to use for training.\\n        optimizers (`Tuple[torch.optim.Optimizer, torch.optim.lr_scheduler.LambdaLR]`):\\n            The optimizer and scheduler to use for training.\\n        preprocess_logits_for_metrics (`Callable[[torch.Tensor, torch.Tensor], torch.Tensor]`):\\n            The function to use to preprocess the logits before computing the metrics.\\n        max_length (`int`, defaults to `None`):\\n            The maximum length of the sequences in the batch. This argument is required if you want to use the default data collator.\\n        max_prompt_length (`int`, defaults to `None`):\\n            The maximum length of the prompt. This argument is required if you want to use the default data collator.\\n        peft_config (`Dict`, defaults to `None`):\\n            The PEFT configuration to use for training. If you pass a PEFT configuration, the model will be wrapped in a PEFT model.\\n    \""
      ]
     },
     "execution_count": 2,
     "metadata": {},
     "output_type": "execute_result"
    }
   ],
   "source": [
    "BaseTrainer.__doc__"
   ]
  },
  {
   "cell_type": "code",
   "execution_count": null,
   "id": "1b18b5c3",
   "metadata": {},
   "outputs": [],
   "source": [
    "DPOTrainer()"
   ]
  }
 ],
 "metadata": {
  "kernelspec": {
   "display_name": "Python 3",
   "language": "python",
   "name": "python3"
  },
  "language_info": {
   "codemirror_mode": {
    "name": "ipython",
    "version": 3
   },
   "file_extension": ".py",
   "mimetype": "text/x-python",
   "name": "python",
   "nbconvert_exporter": "python",
   "pygments_lexer": "ipython3",
   "version": "3.10.14"
  }
 },
 "nbformat": 4,
 "nbformat_minor": 5
}
